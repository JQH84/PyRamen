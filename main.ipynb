{
 "cells": [
  {
   "cell_type": "markdown",
   "metadata": {},
   "source": [
    "# Library Imports "
   ]
  },
  {
   "cell_type": "code",
   "execution_count": null,
   "metadata": {},
   "outputs": [],
   "source": [
    "import csv\n",
    "from pathlib import Path\n",
    "from tqdm import tqdm  # used to create a progress bar while doing the for loop"
   ]
  },
  {
   "cell_type": "markdown",
   "metadata": {},
   "source": [
    "# Setting up File Paths and initial lists to hold data "
   ]
  },
  {
   "cell_type": "code",
   "execution_count": null,
   "metadata": {},
   "outputs": [],
   "source": [
    "# Setting the file paths for the data files to be analyzed\n",
    "menu_filepath = Path(\"Resources/menu_data.csv\")\n",
    "sales_filepath = Path(\"Resources/sales_data.csv\")\n",
    "\n",
    "# Initialize list objects to hold our menu and sales data\n",
    "menu = []\n",
    "sales = []\n",
    "\n",
    "# Read in the menu data into the menu list\n",
    "with open(menu_filepath, \"r\") as csv_file:\n",
    "    menu_data = csv.reader(csv_file, delimiter=\",\")\n",
    "    menu_data_header = next(csv_file)\n",
    "    # loop through the lines in the csv to store in to the menu list\n",
    "    for row in menu_data:\n",
    "        menu.append(row)\n",
    "\n",
    "# Read in the sales data into the menu list\n",
    "with open(sales_filepath, \"r\") as csv_file:\n",
    "    sales_data = csv.reader(csv_file, delimiter=\",\")\n",
    "    sales_data_header = next(csv_file)\n",
    "    # loop through the lines in the csv to store in to the menu list\n",
    "    for row in sales_data:\n",
    "        sales.append(row)"
   ]
  },
  {
   "cell_type": "markdown",
   "metadata": {},
   "source": [
    "# Loop through the data and match the sales data to the menu data and calculate the metrics "
   ]
  },
  {
   "cell_type": "code",
   "execution_count": null,
   "metadata": {},
   "outputs": [],
   "source": [
    "# Initialize dict object to hold our key-value pairs of items and metrics\n",
    "result = {}\n",
    "\n",
    "# Initialize a row counter variable\n",
    "row_count = 0\n",
    "\n",
    "# Loop over every row in the sales list object\n",
    "\n",
    "for row in tqdm(sales):\n",
    "\n",
    "    # Line_Item_ID,Date,Credit_Card_Number,Quantity,Menu_Item\n",
    "    # Initialize sales data variables\n",
    "    quantity = int(row[3])\n",
    "    menu_item = row[4]\n",
    "\n",
    "    # @TODO:\n",
    "    # If the item value not in the report, add it as a new entry with initialized metrics\n",
    "    # Naming convention allows the keys to be ordered in logical fashion, count, revenue, cost, profit\n",
    "    if menu_item not in result.keys():\n",
    "        result[menu_item] = {\"count\": 0, \"revenue\": 0, \"cogs\": 0, \"profit\": 0}\n",
    "\n",
    "    # For every row in our sales data, loop over the menu records to determine a match\n",
    "    for row in menu:\n",
    "        # Item,Category,Description,Price,Cost\n",
    "        # Initialize menu data variables\n",
    "        item = row[0]\n",
    "        price = float(row[3])\n",
    "        cost = float(row[4])\n",
    "\n",
    "        # Calculate profit of each item in the menu data\n",
    "        profit = price - cost\n",
    "        # If the item value in our sales data is equal to the any of the items in the menu, then begin tracking metrics for that item\n",
    "        if menu_item == item:\n",
    "            # Print out matching menu data\n",
    "            # save a dict of the matched items to be printed in summary\n",
    "            matched_items = {\n",
    "                \"item\": item,\n",
    "                \"price\": price,\n",
    "                \"cost\": cost,\n",
    "                \"profit\": profit,\n",
    "            }\n",
    "            print(\n",
    "                f\"Found a match /n Item: {item} /n Price: {price} /n Cost: {cost} /n Profit: {profit}\"\n",
    "            )\n",
    "            # Cumulatively add up the metrics for each item key\n",
    "            result[menu_item][\"count\"] += quantity\n",
    "            result[menu_item][\"revenue\"] += price * quantity\n",
    "            result[menu_item][\"cogs\"] += cost * quantity\n",
    "            result[menu_item][\"profit\"] += profit * quantity\n",
    "\n",
    "        # Else, the sales item does not equal any fo the item in the menu data, therefore no match\n",
    "        # else:\n",
    "        # print(f\"{item} does not match any item in the menu \")\n",
    "\n",
    "    # Increment the row counter by 1\n",
    "    row_count += 1\n",
    "\n",
    "# Print total number of records in sales data\n",
    "# printing the summary after the progress bar completes\n",
    "print(f\"the total number of records are {row_count}\")"
   ]
  },
  {
   "cell_type": "markdown",
   "metadata": {},
   "source": [
    "# Write output to a txt file "
   ]
  },
  {
   "cell_type": "code",
   "execution_count": null,
   "metadata": {},
   "outputs": [],
   "source": [
    "# Write out report to a text file (won't appear on the command line output)\n",
    "\n",
    "results_path = Path(\"results/output.txt\")\n",
    "with open(results_path, \"w\") as csvout:\n",
    "    for key, value in result.items():\n",
    "        row = \"%s %s \\n\" % (key, value)\n",
    "        csvout.write(row)"
   ]
  }
 ],
 "metadata": {
  "interpreter": {
   "hash": "40d3a090f54c6569ab1632332b64b2c03c39dcf918b08424e98f38b5ae0af88f"
  },
  "kernelspec": {
   "display_name": "Python 3.8.2 64-bit ('base': conda)",
   "language": "python",
   "name": "python3"
  },
  "language_info": {
   "name": "python",
   "version": "3.8.2"
  },
  "orig_nbformat": 4
 },
 "nbformat": 4,
 "nbformat_minor": 2
}
